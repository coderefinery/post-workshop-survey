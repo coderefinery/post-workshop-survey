{
 "cells": [
  {
   "cell_type": "markdown",
   "metadata": {},
   "source": [
    "# Analysis of post-workshop survey data which we collect 3-6 months after a workshop"
   ]
  },
  {
   "cell_type": "code",
   "execution_count": 220,
   "metadata": {},
   "outputs": [],
   "source": [
    "import pandas as pd\n",
    "import matplotlib.pyplot as plt\n",
    "import numpy as np\n",
    "import seaborn as sns"
   ]
  },
  {
   "cell_type": "markdown",
   "metadata": {},
   "source": [
    "### Load dataset"
   ]
  },
  {
   "cell_type": "code",
   "execution_count": 221,
   "metadata": {},
   "outputs": [],
   "source": [
    "questions = [u'Which workshop did you attend?',\n",
    "       u'What is your current position?', u'Other', u'Version control',\n",
    "       u'Automated testing', u'Travis CI', u'Code coverage analysis',\n",
    "       u'Jupyter Notebooks', u'CMake', u'Integrated development environments',\n",
    "       u'Code review', u'Read the Docs or GitHub/GitLab/BitBucket Pages',\n",
    "       u'Reusable', u'Reproducible', u'Modular', u'Documented',\n",
    "       u'Has it become easier for you to collaborate on software development with your colleagues and collaborators?',\n",
    "       u'Have you introduced one or more of your colleagues to new tools or practices as a result of the workshop?']               "
   ]
  },
  {
   "cell_type": "markdown",
   "metadata": {},
   "source": [
    "Survey respondents misunderstood the question on \"GitHub/GitLab/Bitbucket Pages\" in the 2017 survey, and it was therefore merged into the \"Read the docs\" question in the 2018 survey. We therefore remove the Pages question from 2017 results and rename the Read the docs question."
   ]
  },
  {
   "cell_type": "code",
   "execution_count": 222,
   "metadata": {},
   "outputs": [
    {
     "data": {
      "text/html": [
       "<div>\n",
       "<style scoped>\n",
       "    .dataframe tbody tr th:only-of-type {\n",
       "        vertical-align: middle;\n",
       "    }\n",
       "\n",
       "    .dataframe tbody tr th {\n",
       "        vertical-align: top;\n",
       "    }\n",
       "\n",
       "    .dataframe thead th {\n",
       "        text-align: right;\n",
       "    }\n",
       "</style>\n",
       "<table border=\"1\" class=\"dataframe\">\n",
       "  <thead>\n",
       "    <tr style=\"text-align: right;\">\n",
       "      <th></th>\n",
       "      <th>Which workshop did you attend?</th>\n",
       "      <th>What is your current position?</th>\n",
       "      <th>Other</th>\n",
       "      <th>Version control</th>\n",
       "      <th>Automated testing</th>\n",
       "      <th>Travis CI</th>\n",
       "      <th>Code coverage analysis</th>\n",
       "      <th>Jupyter Notebooks</th>\n",
       "      <th>CMake</th>\n",
       "      <th>Integrated development environments</th>\n",
       "      <th>Code review</th>\n",
       "      <th>Read the Docs or GitHub/GitLab/BitBucket Pages</th>\n",
       "      <th>Reusable</th>\n",
       "      <th>Reproducible</th>\n",
       "      <th>Modular</th>\n",
       "      <th>Documented</th>\n",
       "      <th>Has it become easier for you to collaborate on software development with your colleagues and collaborators?</th>\n",
       "      <th>Have you introduced one or more of your colleagues to new tools or practices as a result of the workshop?</th>\n",
       "    </tr>\n",
       "  </thead>\n",
       "  <tbody>\n",
       "    <tr>\n",
       "      <th>0</th>\n",
       "      <td>Espoo, Finland, December 2016</td>\n",
       "      <td>Researcher</td>\n",
       "      <td>NaN</td>\n",
       "      <td>I'm using this tool better than before</td>\n",
       "      <td>I'm using this tool in the same way as before</td>\n",
       "      <td>I don't use this tool</td>\n",
       "      <td>I don't use this tool</td>\n",
       "      <td>I'm using this tool in the same way as before</td>\n",
       "      <td>I'm using this tool better than before</td>\n",
       "      <td>I'm using this tool better than before</td>\n",
       "      <td>I'm using this tool better than before</td>\n",
       "      <td>I'm using this tool better than before</td>\n",
       "      <td>1.0</td>\n",
       "      <td>1.0</td>\n",
       "      <td>1.0</td>\n",
       "      <td>1.0</td>\n",
       "      <td>0.0</td>\n",
       "      <td>0</td>\n",
       "    </tr>\n",
       "    <tr>\n",
       "      <th>1</th>\n",
       "      <td>Copenhagen, Denmark, May 2017</td>\n",
       "      <td>Graduate student</td>\n",
       "      <td>NaN</td>\n",
       "      <td>I'm using this tool in the same way as before</td>\n",
       "      <td>I don't use this tool</td>\n",
       "      <td>I don't use this tool</td>\n",
       "      <td>I don't use this tool</td>\n",
       "      <td>I started using this tool</td>\n",
       "      <td>I'm using this tool in the same way as before</td>\n",
       "      <td>I don't use this tool</td>\n",
       "      <td>I don't use this tool</td>\n",
       "      <td>I don't use this tool</td>\n",
       "      <td>NaN</td>\n",
       "      <td>NaN</td>\n",
       "      <td>NaN</td>\n",
       "      <td>NaN</td>\n",
       "      <td>NaN</td>\n",
       "      <td>0</td>\n",
       "    </tr>\n",
       "    <tr>\n",
       "      <th>2</th>\n",
       "      <td>Stockholm, Sweden, February 2017</td>\n",
       "      <td>Graduate student</td>\n",
       "      <td>NaN</td>\n",
       "      <td>I'm using this tool better than before</td>\n",
       "      <td>I don't use this tool</td>\n",
       "      <td>I don't use this tool</td>\n",
       "      <td>I don't use this tool</td>\n",
       "      <td>I started using this tool</td>\n",
       "      <td>I don't use this tool</td>\n",
       "      <td>I'm using this tool better than before</td>\n",
       "      <td>I don't use this tool</td>\n",
       "      <td>I'm using this tool in the same way as before</td>\n",
       "      <td>1.0</td>\n",
       "      <td>1.0</td>\n",
       "      <td>1.0</td>\n",
       "      <td>1.0</td>\n",
       "      <td>NaN</td>\n",
       "      <td>0</td>\n",
       "    </tr>\n",
       "    <tr>\n",
       "      <th>3</th>\n",
       "      <td>Espoo, Finland, December 2016</td>\n",
       "      <td>Postdoc</td>\n",
       "      <td>NaN</td>\n",
       "      <td>I don't use this tool</td>\n",
       "      <td>I don't use this tool</td>\n",
       "      <td>I don't use this tool</td>\n",
       "      <td>I don't use this tool</td>\n",
       "      <td>I don't use this tool</td>\n",
       "      <td>I don't use this tool</td>\n",
       "      <td>I'm using this tool better than before</td>\n",
       "      <td>I don't use this tool</td>\n",
       "      <td>I don't use this tool</td>\n",
       "      <td>1.0</td>\n",
       "      <td>1.0</td>\n",
       "      <td>1.0</td>\n",
       "      <td>1.0</td>\n",
       "      <td>0.0</td>\n",
       "      <td>0</td>\n",
       "    </tr>\n",
       "    <tr>\n",
       "      <th>4</th>\n",
       "      <td>Copenhagen, Denmark, May 2017</td>\n",
       "      <td>NaN</td>\n",
       "      <td>Scientific programmer</td>\n",
       "      <td>I'm using this tool better than before</td>\n",
       "      <td>I started using this tool</td>\n",
       "      <td>I don't use this tool</td>\n",
       "      <td>I started using this tool</td>\n",
       "      <td>I started using this tool</td>\n",
       "      <td>I started using this tool</td>\n",
       "      <td>I'm using this tool better than before</td>\n",
       "      <td>I started using this tool</td>\n",
       "      <td>I started using this tool</td>\n",
       "      <td>1.0</td>\n",
       "      <td>1.0</td>\n",
       "      <td>1.0</td>\n",
       "      <td>0.0</td>\n",
       "      <td>NaN</td>\n",
       "      <td>1</td>\n",
       "    </tr>\n",
       "  </tbody>\n",
       "</table>\n",
       "</div>"
      ],
      "text/plain": [
       "     Which workshop did you attend? What is your current position?  \\\n",
       "0     Espoo, Finland, December 2016                     Researcher   \n",
       "1     Copenhagen, Denmark, May 2017               Graduate student   \n",
       "2  Stockholm, Sweden, February 2017               Graduate student   \n",
       "3     Espoo, Finland, December 2016                        Postdoc   \n",
       "4     Copenhagen, Denmark, May 2017                            NaN   \n",
       "\n",
       "                   Other                                 Version control  \\\n",
       "0                    NaN          I'm using this tool better than before   \n",
       "1                    NaN   I'm using this tool in the same way as before   \n",
       "2                    NaN          I'm using this tool better than before   \n",
       "3                    NaN                           I don't use this tool   \n",
       "4  Scientific programmer          I'm using this tool better than before   \n",
       "\n",
       "                                Automated testing              Travis CI  \\\n",
       "0   I'm using this tool in the same way as before  I don't use this tool   \n",
       "1                           I don't use this tool  I don't use this tool   \n",
       "2                           I don't use this tool  I don't use this tool   \n",
       "3                           I don't use this tool  I don't use this tool   \n",
       "4                       I started using this tool  I don't use this tool   \n",
       "\n",
       "      Code coverage analysis                               Jupyter Notebooks  \\\n",
       "0      I don't use this tool   I'm using this tool in the same way as before   \n",
       "1      I don't use this tool                       I started using this tool   \n",
       "2      I don't use this tool                       I started using this tool   \n",
       "3      I don't use this tool                           I don't use this tool   \n",
       "4  I started using this tool                       I started using this tool   \n",
       "\n",
       "                                            CMake  \\\n",
       "0          I'm using this tool better than before   \n",
       "1   I'm using this tool in the same way as before   \n",
       "2                           I don't use this tool   \n",
       "3                           I don't use this tool   \n",
       "4                       I started using this tool   \n",
       "\n",
       "      Integrated development environments  \\\n",
       "0  I'm using this tool better than before   \n",
       "1                   I don't use this tool   \n",
       "2  I'm using this tool better than before   \n",
       "3  I'm using this tool better than before   \n",
       "4  I'm using this tool better than before   \n",
       "\n",
       "                              Code review  \\\n",
       "0  I'm using this tool better than before   \n",
       "1                   I don't use this tool   \n",
       "2                   I don't use this tool   \n",
       "3                   I don't use this tool   \n",
       "4               I started using this tool   \n",
       "\n",
       "   Read the Docs or GitHub/GitLab/BitBucket Pages  Reusable  Reproducible  \\\n",
       "0          I'm using this tool better than before       1.0           1.0   \n",
       "1                           I don't use this tool       NaN           NaN   \n",
       "2   I'm using this tool in the same way as before       1.0           1.0   \n",
       "3                           I don't use this tool       1.0           1.0   \n",
       "4                       I started using this tool       1.0           1.0   \n",
       "\n",
       "   Modular  Documented  \\\n",
       "0      1.0         1.0   \n",
       "1      NaN         NaN   \n",
       "2      1.0         1.0   \n",
       "3      1.0         1.0   \n",
       "4      1.0         0.0   \n",
       "\n",
       "   Has it become easier for you to collaborate on software development with your colleagues and collaborators?  \\\n",
       "0                                                0.0                                                             \n",
       "1                                                NaN                                                             \n",
       "2                                                NaN                                                             \n",
       "3                                                0.0                                                             \n",
       "4                                                NaN                                                             \n",
       "\n",
       "   Have you introduced one or more of your colleagues to new tools or practices as a result of the workshop?  \n",
       "0                                                  0                                                          \n",
       "1                                                  0                                                          \n",
       "2                                                  0                                                          \n",
       "3                                                  0                                                          \n",
       "4                                                  1                                                          "
      ]
     },
     "execution_count": 222,
     "metadata": {},
     "output_type": "execute_result"
    }
   ],
   "source": [
    "dataset2017 = \"data/2017.csv\"\n",
    "df2017 = pd.read_csv(dataset2017)\n",
    "\n",
    "del df2017[\"GitHub/GitLab/BitBucket Pages\"]\n",
    "df2017.rename(index=str, inplace=True, columns={\"Read the docs\": \n",
    "                              \"Read the Docs or GitHub/GitLab/BitBucket Pages\"})\n",
    "\n",
    "df2017.head()"
   ]
  },
  {
   "cell_type": "code",
   "execution_count": 223,
   "metadata": {},
   "outputs": [],
   "source": [
    "dataset2018 = \"data/2018.csv\"\n",
    "df2018 = pd.read_csv(dataset2018)\n",
    "#df2018.head()"
   ]
  },
  {
   "cell_type": "code",
   "execution_count": 224,
   "metadata": {},
   "outputs": [
    {
     "name": "stdout",
     "output_type": "stream",
     "text": [
      "number of survey respondents:  92\n"
     ]
    }
   ],
   "source": [
    "dfs = [df2017, df2018]\n",
    "df_all = pd.concat(dfs)\n",
    "print(\"number of survey respondents: \",len(df_all))"
   ]
  },
  {
   "cell_type": "markdown",
   "metadata": {},
   "source": [
    "### Tools taught in workshops"
   ]
  },
  {
   "cell_type": "code",
   "execution_count": 225,
   "metadata": {},
   "outputs": [],
   "source": [
    "first_index = df_all.columns.get_loc(\"Version control\")\n",
    "last_index = df_all.columns.get_loc(\"Read the Docs or GitHub/GitLab/BitBucket Pages\")\n",
    "lessons = df_all.columns[first_index:last_index+1].tolist()\n",
    "#lessons"
   ]
  },
  {
   "cell_type": "code",
   "execution_count": 226,
   "metadata": {},
   "outputs": [],
   "source": [
    "df_lessons = df_all[lessons]\n",
    "#df_lessons.head()"
   ]
  },
  {
   "cell_type": "markdown",
   "metadata": {},
   "source": [
    "Extract answers on tools usage"
   ]
  },
  {
   "cell_type": "code",
   "execution_count": 227,
   "metadata": {},
   "outputs": [
    {
     "ename": "KeyError",
     "evalue": "'index'",
     "output_type": "error",
     "traceback": [
      "\u001b[0;31m---------------------------------------------------------------------------\u001b[0m",
      "\u001b[0;31mKeyError\u001b[0m                                  Traceback (most recent call last)",
      "\u001b[0;32m/nix/store/fkmk67769jbixpz4jq5g5pi6r4n2sap0-python3.9-pandas-1.2.3/lib/python3.9/site-packages/pandas/core/indexes/base.py\u001b[0m in \u001b[0;36mget_loc\u001b[0;34m(self, key, method, tolerance)\u001b[0m\n\u001b[1;32m   3079\u001b[0m             \u001b[0;32mtry\u001b[0m\u001b[0;34m:\u001b[0m\u001b[0;34m\u001b[0m\u001b[0;34m\u001b[0m\u001b[0m\n\u001b[0;32m-> 3080\u001b[0;31m                 \u001b[0;32mreturn\u001b[0m \u001b[0mself\u001b[0m\u001b[0;34m.\u001b[0m\u001b[0m_engine\u001b[0m\u001b[0;34m.\u001b[0m\u001b[0mget_loc\u001b[0m\u001b[0;34m(\u001b[0m\u001b[0mcasted_key\u001b[0m\u001b[0;34m)\u001b[0m\u001b[0;34m\u001b[0m\u001b[0;34m\u001b[0m\u001b[0m\n\u001b[0m\u001b[1;32m   3081\u001b[0m             \u001b[0;32mexcept\u001b[0m \u001b[0mKeyError\u001b[0m \u001b[0;32mas\u001b[0m \u001b[0merr\u001b[0m\u001b[0;34m:\u001b[0m\u001b[0;34m\u001b[0m\u001b[0;34m\u001b[0m\u001b[0m\n",
      "\u001b[0;32mpandas/_libs/index.pyx\u001b[0m in \u001b[0;36mpandas._libs.index.IndexEngine.get_loc\u001b[0;34m()\u001b[0m\n",
      "\u001b[0;32mpandas/_libs/index.pyx\u001b[0m in \u001b[0;36mpandas._libs.index.IndexEngine.get_loc\u001b[0;34m()\u001b[0m\n",
      "\u001b[0;32mpandas/_libs/index.pyx\u001b[0m in \u001b[0;36mpandas._libs.index.IndexEngine._get_loc_duplicates\u001b[0;34m()\u001b[0m\n",
      "\u001b[0;32mpandas/_libs/index.pyx\u001b[0m in \u001b[0;36mpandas._libs.index.IndexEngine._maybe_get_bool_indexer\u001b[0;34m()\u001b[0m\n",
      "\u001b[0;32mpandas/_libs/index.pyx\u001b[0m in \u001b[0;36mpandas._libs.index.IndexEngine._unpack_bool_indexer\u001b[0;34m()\u001b[0m\n",
      "\u001b[0;31mKeyError\u001b[0m: 'index'",
      "\nThe above exception was the direct cause of the following exception:\n",
      "\u001b[0;31mKeyError\u001b[0m                                  Traceback (most recent call last)",
      "\u001b[0;32m<ipython-input-227-1a0c9f0e359f>\u001b[0m in \u001b[0;36m<module>\u001b[0;34m\u001b[0m\n\u001b[0;32m----> 1\u001b[0;31m \u001b[0manswers\u001b[0m \u001b[0;34m=\u001b[0m \u001b[0mpd\u001b[0m\u001b[0;34m.\u001b[0m\u001b[0mmelt\u001b[0m\u001b[0;34m(\u001b[0m\u001b[0mdf_lessons\u001b[0m\u001b[0;34m,\u001b[0m\u001b[0mid_vars\u001b[0m\u001b[0;34m=\u001b[0m\u001b[0;34m\"index\"\u001b[0m\u001b[0;34m,\u001b[0m\u001b[0mvalue_vars\u001b[0m\u001b[0;34m=\u001b[0m\u001b[0mlessons\u001b[0m\u001b[0;34m,\u001b[0m\u001b[0mvalue_name\u001b[0m\u001b[0;34m=\u001b[0m\u001b[0;34m\"answer\"\u001b[0m\u001b[0;34m,\u001b[0m\u001b[0mvar_name\u001b[0m\u001b[0;34m=\u001b[0m\u001b[0;34m\"lesson\"\u001b[0m\u001b[0;34m)\u001b[0m\u001b[0;34m\u001b[0m\u001b[0;34m\u001b[0m\u001b[0m\n\u001b[0m\u001b[1;32m      2\u001b[0m \u001b[0manswers\u001b[0m\u001b[0;34m[\u001b[0m\u001b[0;34m\"index\"\u001b[0m\u001b[0;34m]\u001b[0m\u001b[0;34m=\u001b[0m\u001b[0;36m1\u001b[0m\u001b[0;34m\u001b[0m\u001b[0;34m\u001b[0m\u001b[0m\n\u001b[1;32m      3\u001b[0m \u001b[0manswers\u001b[0m\u001b[0;34m=\u001b[0m\u001b[0manswers\u001b[0m\u001b[0;34m.\u001b[0m\u001b[0mrename\u001b[0m\u001b[0;34m(\u001b[0m\u001b[0mcolumns\u001b[0m \u001b[0;34m=\u001b[0m \u001b[0;34m{\u001b[0m\u001b[0;34m'index'\u001b[0m\u001b[0;34m:\u001b[0m\u001b[0;34m'number'\u001b[0m\u001b[0;34m}\u001b[0m\u001b[0;34m)\u001b[0m\u001b[0;34m\u001b[0m\u001b[0;34m\u001b[0m\u001b[0m\n\u001b[1;32m      4\u001b[0m \u001b[0;34m\u001b[0m\u001b[0m\n\u001b[1;32m      5\u001b[0m \u001b[0;31m# Some preprocessing of string elements\u001b[0m\u001b[0;34m\u001b[0m\u001b[0;34m\u001b[0m\u001b[0;34m\u001b[0m\u001b[0m\n",
      "\u001b[0;32m/nix/store/fkmk67769jbixpz4jq5g5pi6r4n2sap0-python3.9-pandas-1.2.3/lib/python3.9/site-packages/pandas/core/reshape/melt.py\u001b[0m in \u001b[0;36mmelt\u001b[0;34m(frame, id_vars, value_vars, var_name, value_name, col_level, ignore_index)\u001b[0m\n\u001b[1;32m    117\u001b[0m     \u001b[0mmdata\u001b[0m \u001b[0;34m=\u001b[0m \u001b[0;34m{\u001b[0m\u001b[0;34m}\u001b[0m\u001b[0;34m\u001b[0m\u001b[0;34m\u001b[0m\u001b[0m\n\u001b[1;32m    118\u001b[0m     \u001b[0;32mfor\u001b[0m \u001b[0mcol\u001b[0m \u001b[0;32min\u001b[0m \u001b[0mid_vars\u001b[0m\u001b[0;34m:\u001b[0m\u001b[0;34m\u001b[0m\u001b[0;34m\u001b[0m\u001b[0m\n\u001b[0;32m--> 119\u001b[0;31m         \u001b[0mid_data\u001b[0m \u001b[0;34m=\u001b[0m \u001b[0mframe\u001b[0m\u001b[0;34m.\u001b[0m\u001b[0mpop\u001b[0m\u001b[0;34m(\u001b[0m\u001b[0mcol\u001b[0m\u001b[0;34m)\u001b[0m\u001b[0;34m\u001b[0m\u001b[0;34m\u001b[0m\u001b[0m\n\u001b[0m\u001b[1;32m    120\u001b[0m         \u001b[0;32mif\u001b[0m \u001b[0mis_extension_array_dtype\u001b[0m\u001b[0;34m(\u001b[0m\u001b[0mid_data\u001b[0m\u001b[0;34m)\u001b[0m\u001b[0;34m:\u001b[0m\u001b[0;34m\u001b[0m\u001b[0;34m\u001b[0m\u001b[0m\n\u001b[1;32m    121\u001b[0m             \u001b[0mid_data\u001b[0m \u001b[0;34m=\u001b[0m \u001b[0mcast\u001b[0m\u001b[0;34m(\u001b[0m\u001b[0;34m\"Series\"\u001b[0m\u001b[0;34m,\u001b[0m \u001b[0mconcat\u001b[0m\u001b[0;34m(\u001b[0m\u001b[0;34m[\u001b[0m\u001b[0mid_data\u001b[0m\u001b[0;34m]\u001b[0m \u001b[0;34m*\u001b[0m \u001b[0mK\u001b[0m\u001b[0;34m,\u001b[0m \u001b[0mignore_index\u001b[0m\u001b[0;34m=\u001b[0m\u001b[0;32mTrue\u001b[0m\u001b[0;34m)\u001b[0m\u001b[0;34m)\u001b[0m\u001b[0;34m\u001b[0m\u001b[0;34m\u001b[0m\u001b[0m\n",
      "\u001b[0;32m/nix/store/fkmk67769jbixpz4jq5g5pi6r4n2sap0-python3.9-pandas-1.2.3/lib/python3.9/site-packages/pandas/core/frame.py\u001b[0m in \u001b[0;36mpop\u001b[0;34m(self, item)\u001b[0m\n\u001b[1;32m   4510\u001b[0m         \u001b[0;36m3\u001b[0m  \u001b[0mmonkey\u001b[0m        \u001b[0mNaN\u001b[0m\u001b[0;34m\u001b[0m\u001b[0;34m\u001b[0m\u001b[0m\n\u001b[1;32m   4511\u001b[0m         \"\"\"\n\u001b[0;32m-> 4512\u001b[0;31m         \u001b[0;32mreturn\u001b[0m \u001b[0msuper\u001b[0m\u001b[0;34m(\u001b[0m\u001b[0;34m)\u001b[0m\u001b[0;34m.\u001b[0m\u001b[0mpop\u001b[0m\u001b[0;34m(\u001b[0m\u001b[0mitem\u001b[0m\u001b[0;34m=\u001b[0m\u001b[0mitem\u001b[0m\u001b[0;34m)\u001b[0m\u001b[0;34m\u001b[0m\u001b[0;34m\u001b[0m\u001b[0m\n\u001b[0m\u001b[1;32m   4513\u001b[0m \u001b[0;34m\u001b[0m\u001b[0m\n\u001b[1;32m   4514\u001b[0m     \u001b[0;34m@\u001b[0m\u001b[0mdoc\u001b[0m\u001b[0;34m(\u001b[0m\u001b[0mNDFrame\u001b[0m\u001b[0;34m.\u001b[0m\u001b[0mreplace\u001b[0m\u001b[0;34m,\u001b[0m \u001b[0;34m**\u001b[0m\u001b[0m_shared_doc_kwargs\u001b[0m\u001b[0;34m)\u001b[0m\u001b[0;34m\u001b[0m\u001b[0;34m\u001b[0m\u001b[0m\n",
      "\u001b[0;32m/nix/store/fkmk67769jbixpz4jq5g5pi6r4n2sap0-python3.9-pandas-1.2.3/lib/python3.9/site-packages/pandas/core/generic.py\u001b[0m in \u001b[0;36mpop\u001b[0;34m(self, item)\u001b[0m\n\u001b[1;32m    767\u001b[0m \u001b[0;34m\u001b[0m\u001b[0m\n\u001b[1;32m    768\u001b[0m     \u001b[0;32mdef\u001b[0m \u001b[0mpop\u001b[0m\u001b[0;34m(\u001b[0m\u001b[0mself\u001b[0m\u001b[0;34m,\u001b[0m \u001b[0mitem\u001b[0m\u001b[0;34m:\u001b[0m \u001b[0mLabel\u001b[0m\u001b[0;34m)\u001b[0m \u001b[0;34m->\u001b[0m \u001b[0mUnion\u001b[0m\u001b[0;34m[\u001b[0m\u001b[0mSeries\u001b[0m\u001b[0;34m,\u001b[0m \u001b[0mAny\u001b[0m\u001b[0;34m]\u001b[0m\u001b[0;34m:\u001b[0m\u001b[0;34m\u001b[0m\u001b[0;34m\u001b[0m\u001b[0m\n\u001b[0;32m--> 769\u001b[0;31m         \u001b[0mresult\u001b[0m \u001b[0;34m=\u001b[0m \u001b[0mself\u001b[0m\u001b[0;34m[\u001b[0m\u001b[0mitem\u001b[0m\u001b[0;34m]\u001b[0m\u001b[0;34m\u001b[0m\u001b[0;34m\u001b[0m\u001b[0m\n\u001b[0m\u001b[1;32m    770\u001b[0m         \u001b[0;32mdel\u001b[0m \u001b[0mself\u001b[0m\u001b[0;34m[\u001b[0m\u001b[0mitem\u001b[0m\u001b[0;34m]\u001b[0m\u001b[0;34m\u001b[0m\u001b[0;34m\u001b[0m\u001b[0m\n\u001b[1;32m    771\u001b[0m         \u001b[0;32mif\u001b[0m \u001b[0mself\u001b[0m\u001b[0;34m.\u001b[0m\u001b[0mndim\u001b[0m \u001b[0;34m==\u001b[0m \u001b[0;36m2\u001b[0m\u001b[0;34m:\u001b[0m\u001b[0;34m\u001b[0m\u001b[0;34m\u001b[0m\u001b[0m\n",
      "\u001b[0;32m/nix/store/fkmk67769jbixpz4jq5g5pi6r4n2sap0-python3.9-pandas-1.2.3/lib/python3.9/site-packages/pandas/core/frame.py\u001b[0m in \u001b[0;36m__getitem__\u001b[0;34m(self, key)\u001b[0m\n\u001b[1;32m   3022\u001b[0m             \u001b[0;32mif\u001b[0m \u001b[0mself\u001b[0m\u001b[0;34m.\u001b[0m\u001b[0mcolumns\u001b[0m\u001b[0;34m.\u001b[0m\u001b[0mnlevels\u001b[0m \u001b[0;34m>\u001b[0m \u001b[0;36m1\u001b[0m\u001b[0;34m:\u001b[0m\u001b[0;34m\u001b[0m\u001b[0;34m\u001b[0m\u001b[0m\n\u001b[1;32m   3023\u001b[0m                 \u001b[0;32mreturn\u001b[0m \u001b[0mself\u001b[0m\u001b[0;34m.\u001b[0m\u001b[0m_getitem_multilevel\u001b[0m\u001b[0;34m(\u001b[0m\u001b[0mkey\u001b[0m\u001b[0;34m)\u001b[0m\u001b[0;34m\u001b[0m\u001b[0;34m\u001b[0m\u001b[0m\n\u001b[0;32m-> 3024\u001b[0;31m             \u001b[0mindexer\u001b[0m \u001b[0;34m=\u001b[0m \u001b[0mself\u001b[0m\u001b[0;34m.\u001b[0m\u001b[0mcolumns\u001b[0m\u001b[0;34m.\u001b[0m\u001b[0mget_loc\u001b[0m\u001b[0;34m(\u001b[0m\u001b[0mkey\u001b[0m\u001b[0;34m)\u001b[0m\u001b[0;34m\u001b[0m\u001b[0;34m\u001b[0m\u001b[0m\n\u001b[0m\u001b[1;32m   3025\u001b[0m             \u001b[0;32mif\u001b[0m \u001b[0mis_integer\u001b[0m\u001b[0;34m(\u001b[0m\u001b[0mindexer\u001b[0m\u001b[0;34m)\u001b[0m\u001b[0;34m:\u001b[0m\u001b[0;34m\u001b[0m\u001b[0;34m\u001b[0m\u001b[0m\n\u001b[1;32m   3026\u001b[0m                 \u001b[0mindexer\u001b[0m \u001b[0;34m=\u001b[0m \u001b[0;34m[\u001b[0m\u001b[0mindexer\u001b[0m\u001b[0;34m]\u001b[0m\u001b[0;34m\u001b[0m\u001b[0;34m\u001b[0m\u001b[0m\n",
      "\u001b[0;32m/nix/store/fkmk67769jbixpz4jq5g5pi6r4n2sap0-python3.9-pandas-1.2.3/lib/python3.9/site-packages/pandas/core/indexes/base.py\u001b[0m in \u001b[0;36mget_loc\u001b[0;34m(self, key, method, tolerance)\u001b[0m\n\u001b[1;32m   3080\u001b[0m                 \u001b[0;32mreturn\u001b[0m \u001b[0mself\u001b[0m\u001b[0;34m.\u001b[0m\u001b[0m_engine\u001b[0m\u001b[0;34m.\u001b[0m\u001b[0mget_loc\u001b[0m\u001b[0;34m(\u001b[0m\u001b[0mcasted_key\u001b[0m\u001b[0;34m)\u001b[0m\u001b[0;34m\u001b[0m\u001b[0;34m\u001b[0m\u001b[0m\n\u001b[1;32m   3081\u001b[0m             \u001b[0;32mexcept\u001b[0m \u001b[0mKeyError\u001b[0m \u001b[0;32mas\u001b[0m \u001b[0merr\u001b[0m\u001b[0;34m:\u001b[0m\u001b[0;34m\u001b[0m\u001b[0;34m\u001b[0m\u001b[0m\n\u001b[0;32m-> 3082\u001b[0;31m                 \u001b[0;32mraise\u001b[0m \u001b[0mKeyError\u001b[0m\u001b[0;34m(\u001b[0m\u001b[0mkey\u001b[0m\u001b[0;34m)\u001b[0m \u001b[0;32mfrom\u001b[0m \u001b[0merr\u001b[0m\u001b[0;34m\u001b[0m\u001b[0;34m\u001b[0m\u001b[0m\n\u001b[0m\u001b[1;32m   3083\u001b[0m \u001b[0;34m\u001b[0m\u001b[0m\n\u001b[1;32m   3084\u001b[0m         \u001b[0;32mif\u001b[0m \u001b[0mtolerance\u001b[0m \u001b[0;32mis\u001b[0m \u001b[0;32mnot\u001b[0m \u001b[0;32mNone\u001b[0m\u001b[0;34m:\u001b[0m\u001b[0;34m\u001b[0m\u001b[0;34m\u001b[0m\u001b[0m\n",
      "\u001b[0;31mKeyError\u001b[0m: 'index'"
     ]
    }
   ],
   "source": [
    "answers = pd.melt(df_lessons,id_vars=\"index\",value_vars=lessons,value_name=\"answer\",var_name=\"lesson\")\n",
    "answers[\"index\"]=1\n",
    "answers=answers.rename(columns = {'index':'number'})\n",
    "\n",
    "# Some preprocessing of string elements\n",
    "answers.replace('^\\s+', '', regex=True, inplace=True) #front\n",
    "answers.replace('\\s+$', '', regex=True, inplace=True) #end\n",
    "answers.replace(to_replace=\"I’m using this tool better than before\",\n",
    "                value=\"I'm using this tool better than before\",inplace=True)\n",
    "answers.replace(to_replace=\"I don’t use this tool\",\n",
    "                value=\"I don't use this tool\",inplace=True)\n",
    "answers.replace(to_replace=\"I’m using this tool in the same way as before\",\n",
    "                value=\"I'm using this tool in the same way as before\",inplace=True)"
   ]
  },
  {
   "cell_type": "code",
   "execution_count": null,
   "metadata": {},
   "outputs": [],
   "source": [
    "table = answers.pivot_table(values=\"number\",index=\"answer\", columns=\"lesson\",aggfunc=np.sum)\n",
    "#table"
   ]
  },
  {
   "cell_type": "markdown",
   "metadata": {},
   "source": [
    "### Have workshop attendants started using new tools, or started using them better?"
   ]
  },
  {
   "cell_type": "code",
   "execution_count": null,
   "metadata": {},
   "outputs": [],
   "source": [
    "#%matplotlib inline\n",
    "plt.clf()\n",
    "sns.reset_defaults()\n",
    "sns.reset_orig()\n",
    "\n",
    "font = {'family' : 'normal',\n",
    "        'weight' : 'normal',\n",
    "        'size'   : 14}\n",
    "plt.rc('font', **font)\n",
    "fig, ax = plt.subplots(1, 1, figsize = (8,8))\n",
    "# normalize\n",
    "table_norm=(table)/table.sum()\n",
    "# table for annotating cells \n",
    "annot = 100*table_norm.round(2)\n",
    "\n",
    "# rename a bit for appearance\n",
    "table_norm=table_norm.rename(columns = {'Version control':'Git'})\n",
    "table_norm=table_norm.rename(columns = {'Integrated development environments':'IDEs'})\n",
    "table_norm=table_norm.rename_axis({'I don\\'t use this tool':'I don\\'t use\\n this tool'})\n",
    "table_norm=table_norm.rename_axis({\"I'm using this tool in the same way as before\":\n",
    "                                   \"I'm using this tool in\\n the same way as before\"})\n",
    "table_norm=table_norm.rename_axis({\"I\\'m using this tool better than before\":\n",
    "                                   \"I\\'m using this tool\\n better than before\"})\n",
    "table_norm=table_norm.rename_axis({\"I started using this tool\":\"I started using\\n this tool\"})\n",
    "\n",
    "table_norm=table_norm.rename_axis({\"Read the Docs or GitHub/GitLab/BitBucket Pages\":\n",
    "                                   \"Read the Docs or \\nGitHub/GitLab Pages\"}, \n",
    "                                 axis=1)\n",
    "\n",
    "g = sns.heatmap(table_norm,linewidths=.5, annot=annot,cbar=False);\n",
    "\n",
    "for t in g.texts: t.set_text(t.get_text() + \"%\")\n",
    "g.set_xticklabels(g.get_xticklabels(), rotation=35, ha=\"right\")\n",
    "g.set_yticklabels(g.get_yticklabels(), rotation=0, ha=\"right\")\n",
    "\n",
    "ax.set_ylabel('')    \n",
    "ax.set_xlabel('')\n",
    "ax.figure.tight_layout()\n",
    "\n",
    "#plt.show()\n",
    "plt.savefig(\"figures/heatmap.png\");"
   ]
  },
  {
   "cell_type": "markdown",
   "metadata": {},
   "source": [
    "## Job title/ position/ occupation"
   ]
  },
  {
   "cell_type": "code",
   "execution_count": 228,
   "metadata": {},
   "outputs": [],
   "source": [
    "df = pd.concat([\n",
    "    pd.read_csv(\"data/2017.csv\"),\n",
    "    pd.read_csv(\"data/2018.csv\"),\n",
    "])\n",
    "    \n",
    "# for those values where current position is empty, take the value from \"Other\"\n",
    "df[\"What is your current position?\"].fillna(df[\"Other\"], inplace=True)\n",
    "\n",
    "positions = df[\"What is your current position?\"]\n",
    "unique_positions = positions.unique()\n",
    "counts = positions.value_counts()"
   ]
  },
  {
   "cell_type": "code",
   "execution_count": 229,
   "metadata": {},
   "outputs": [
    {
     "data": {
      "image/png": "[encoded data removed]",
      "text/plain": [
       "<Figure size 1080x720 with 1 Axes>"
      ]
     },
     "metadata": {},
     "output_type": "display_data"
    }
   ],
   "source": [
    "sns.set_theme(style=\"whitegrid\")\n",
    "\n",
    "f, ax = plt.subplots(figsize=(15, 10))\n",
    "\n",
    "sns.barplot(y=counts.index.str.capitalize(), x=counts.values, alpha=0.8)\n",
    "\n",
    "f.savefig(\"figures/position.png\")"
   ]
  },
  {
   "cell_type": "markdown",
   "metadata": {},
   "source": [
    "## Impact on code quality and collaboration\n",
    "\n",
    "I didn't use mean() because this gave a different result since it would\n",
    "ignore those rows where there is no answer."
   ]
  },
  {
   "cell_type": "code",
   "execution_count": 230,
   "metadata": {},
   "outputs": [
    {
     "data": {
      "image/png": "[encoded data removed]",
      "text/plain": [
       "<Figure size 1080x720 with 1 Axes>"
      ]
     },
     "metadata": {},
     "output_type": "display_data"
    }
   ],
   "source": [
    "num_answers = df.shape[0]\n",
    "\n",
    "yesno = pd.DataFrame(columns = ['Question', 'Fraction'])\n",
    "\n",
    "yesno = yesno.append({'Question': 'More reusable?',\n",
    "                      'Fraction': df[\"Reusable\"].sum()/num_answers},\n",
    "                     ignore_index = True)\n",
    "\n",
    "yesno = yesno.append({'Question': 'More reproducible?',\n",
    "                      'Fraction': df[\"Reproducible\"].sum()/num_answers},\n",
    "                     ignore_index = True)\n",
    "\n",
    "yesno = yesno.append({'Question': 'More modular?',\n",
    "                      'Fraction': df[\"Modular\"].sum()/num_answers},\n",
    "                     ignore_index = True)\n",
    "\n",
    "yesno = yesno.append({'Question': 'Better documented?',\n",
    "                      'Fraction': df[\"Documented\"].sum()/num_answers},\n",
    "                     ignore_index = True)\n",
    "\n",
    "c = [col for col in df_all.columns if 'easier for you to collaborate' in col]\n",
    "yesno = yesno.append({'Question': 'Easier to collaborate?',\n",
    "                      'Fraction': df[c[0]].sum()/num_answers},\n",
    "                     ignore_index = True)\n",
    "\n",
    "c = [col for col in df_all.columns if 'introduced one or more' in col]\n",
    "yesno = yesno.append({'Question': 'Introduced tools to colleagues?',\n",
    "                      'Fraction': df[c[0]].sum()/num_answers},\n",
    "                     ignore_index = True)\n",
    "\n",
    "f, ax = plt.subplots(figsize=(15, 10))\n",
    "\n",
    "g = sns.barplot(y=yesno.Question, x=yesno.Fraction, alpha=0.8)\n",
    "g.set(xlim=(0.0, 1.0))\n",
    "\n",
    "f.savefig(\"figures/yes-no-questions.png\")"
   ]
  },
  {
   "cell_type": "code",
   "execution_count": null,
   "metadata": {},
   "outputs": [],
   "source": []
  }
 ],
 "metadata": {
  "kernelspec": {
   "display_name": "Python 3",
   "language": "python",
   "name": "python3"
  },
  "language_info": {
   "codemirror_mode": {
    "name": "ipython",
    "version": 3
   },
   "file_extension": ".py",
   "mimetype": "text/x-python",
   "name": "python",
   "nbconvert_exporter": "python",
   "pygments_lexer": "ipython3",
   "version": "3.9.4"
  }
 },
 "nbformat": 4,
 "nbformat_minor": 2
}
